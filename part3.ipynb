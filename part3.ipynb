{
 "cells": [
  {
   "cell_type": "markdown",
   "id": "b7457a4c",
   "metadata": {},
   "source": [
    "# Part3 -- DataAnalytics"
   ]
  },
  {
   "cell_type": "markdown",
   "id": "25c44cc4",
   "metadata": {},
   "source": [
    "   * > #### 1. Preparation of data\n",
    "   * > #### 2. Data acquisition, preservation\n",
    "   * > #### 3. Cleaning of data\n",
    "   * > #### 4. Statistics on differences in stock data"
   ]
  },
  {
   "cell_type": "markdown",
   "id": "78518121",
   "metadata": {},
   "source": [
    "## 1. Preparation of data"
   ]
  },
  {
   "cell_type": "markdown",
   "id": "2c57f31d",
   "metadata": {},
   "source": [
    "   * ### Sina Finance Stock Data API Interface  \n",
    "     Introduction to the #### API.\n",
    "     #### The meaning of this list from the first element in this order to the last element is as follows. (The beginning is the index value)\n",
    "     * #### 0: \"Daqin Railway\", the name of the stock.\n",
    "     * #### 1: \"27.55″, today's opening price.\n",
    "     * #### 2: \"27.25″, yesterday's closing price.\n",
    "     * #### 3: \"26.91″, current price.\n",
    "     * #### 4: \"27.55″, today's high price.\n",
    "     * #### 5: \"26.20″, today's low; * #### 5: \"26.20″, today's low.\n",
    "     * #### 6: \"26.91″, the bid price, i.e. \"buy one\" offer.\n",
    "     * #### 7: \"26.92″, the bid price, i.e. \"sell one\" offer.\n",
    "     * #### 8: \"22114263″, the number of shares traded, which is usually divided by one hundred when used as the basic unit of stock trading is one hundred shares.\n",
    "     * #### 9: \"589824680″, the amount of the transaction, in \"yuan\", which is usually divided by 10,000, as \"ten thousand\" is the unit of the transaction amount for the sake of clarity.\n",
    "     * #### 10: \"4695″, \"buy one\" request for 4695 shares, i.e. 47 lots.\n",
    "     * #### 11: \"26.91″, a \"buy one\" quote.\n",
    "     * #### 12: \"57590″, \"Buy 2\"\n",
    "     * #### 13: \"26.90″, \"Buy Two\"\n",
    "     * #### 14: \"14700″, \"Buy 3\"\n",
    "     * #### 15: \"26.89″, \"Buy Three\"\n",
    "     * #### 16: \"14300″, \"Buy 4\"\n",
    "     * #### 17: \"26.88″, \"buy four\"\n",
    "     * #### 18: \"15,100″, \"Buy Five\"\n",
    "     * #### 19: \"26.87″, \"Buy Five\"\n",
    "     * #### 20: \"3100″, \"Sell One\" for 3100 shares, i.e. 31 lots.\n",
    "     * #### 21: \"26.92″, \"Sell One\" quote\n",
    "     * #### (22, 23), (24, 25), (26, 27), (28, 29) for \"Sell 2\" to \"Sell 4\" respectively\n",
    "     * #### 30: \"2008-01-11\", date.\n",
    "     * #### 31: \"15:05:32″, time.\n",
    "     #### In addition, there is an API for getting historical stock data as follows\n",
    "     \n",
    "        url = 'http://money.finance.sina.com.cn/quotes_service/api/json_v2.php' \\\n",
    "              '/CN_MarketData.getKLineData?symbol={0}&scale={1}&ma={2}&datalen=' \\\n",
    "              '{3}'.format(self.code, self.scale, self.ma, self.datalen)\n",
    "              \n",
    "     #### shows that in the composition of the URL of this API, code represents the stock code, scale represents the time interval (in minutes), ma is the average value (can be 5, 10, 15, 20, 25), and datalen is the number of data fetched at one time.\n",
    "     #### is also accessed using the requests library, which gives json data with a structure similar to the following\n",
    "     \n",
    "     [{\"day\": \"2022-01-10 15:00:00\", \"open\": \"24.680\", \"high\": \"25.140\", \"low\": \"24.380\", \"close\": \"25.140\", \"volume\": \"3965150\", \"ma_price20\": 21.105, \"ma_volume20\":3964285}]\n",
    "     \n",
    "     #### shows that the API will return a list which holds datalen data. Each entry is a json dictionary containing the following main fields\n",
    "     * #### day: time\n",
    "     * #### open: the opening price\n",
    "     * #### high: the highest share price for the time period\n",
    "     * #### low: the lowest share price at that time\n",
    "     * #### close: the closing price\n",
    "     * #### volume: volume\n",
    "     * #### ma_price20: average price\n",
    "     * #### ma_volume20: average number of shares traded\n",
    "     #### It is worth noting that the volume is in hundreds of shares."
   ]
  },
  {
   "cell_type": "code",
   "execution_count": 1,
   "id": "45d143d2",
   "metadata": {},
   "outputs": [],
   "source": [
    "import socket\n",
    "import time\n",
    "import pandas as pd\n",
    "import csv\n",
    "import matplotlib.pyplot as plt\n",
    "import requests"
   ]
  },
  {
   "cell_type": "markdown",
   "id": "a33b1134",
   "metadata": {},
   "source": [
    "#### A GET request to this API using the Python third party library 'requests' gives the following feedback data.\n",
    "     var hq_str_sh601006=\"XXX, 27.55, 27.25, 26.91, 27.55, 26.20, 26.91, 26.92,22114263, 589824680, 4695, 26.91, 57590, 26.90, 14700, 26.89, 14300, 26.88, 15100, 26.87, 3100, 26.92, 8900, 26.93, 14230, 26.94, 25150, 26.95, 15220, 26.96, 2008-01-11, 15:05:32\";\n",
    "\n",
    "#### This string consists of many pieces of data stitched together, with the different meanings separated by commas. Using Python's built-in library split to split the string, you can get the list\n",
    "     var = ['XXX', '27.55', '27.25', '26.91', '27.55', '26.20', '26.91', '26.92', '22114263', '589824680', '4695', '26.91', '57590', '26.90', '14700', ' 26.89', '14300', '26.88', '15100', '26.87', '3100', '26.92', '8900', '26.93', '14230', '26.94', '25150', '26.95', '15220', '26.96', '2008-01-11', '15:05:32']"
   ]
  },
  {
   "cell_type": "code",
   "execution_count": 2,
   "id": "90e04498",
   "metadata": {},
   "outputs": [],
   "source": [
    "HTML = \"\"\"\n",
    "<!DOCTYPE html>\n",
    "<html lang=\"en\">\n",
    "<head>\n",
    "    <meta charset=\"UTF-8\">\n",
    "    <title>Part3 Analysis Report</title>\n",
    "    <script src=\"https://matthewyt.pythonanywhere.com/static/echarts.js\"></script>\n",
    "    <link href=\"https://cdn.jsdelivr.net/npm/bootstrap@5.0.1/dist/css/bootstrap.min.css\" rel=\"stylesheet\" integrity=\"sha384-+0n0xVW2eSR5OomGNYDnhzAbDsOXxcvSN1TPprVMTNDbiYZCxYbOOl7+AMvyTG2x\" crossorigin=\"anonymous\">\n",
    "    <style>\n",
    "    .container{\n",
    "        max-width: 960px;\n",
    "    }\n",
    "\n",
    "    </style>\n",
    "</head>\n",
    "\n",
    "<body>\n",
    "\n",
    "\n",
    "<div class=\"container\">\n",
    "  <main>\n",
    "    <section class=\"py-5 text-center container\">\n",
    "    <div class=\"row py-lg-5\">\n",
    "      <div class=\"col-lg-6 col-md-8 mx-auto\">\n",
    "        <h1 class=\"fw-light\">Part3 Analysis Report</h1>\n",
    "        <p class=\"lead text-muted\">By&nbsp;yingtong.</p>\n",
    "        <p>\n",
    "        </p>\n",
    "      </div>\n",
    "    </div>\n",
    "  </section>\n",
    "\n",
    "<div style=\"height: 30px\"></div>\n",
    "\n",
    "<div id=\"mainnew\" style=\"height:350px;width:100%\"></div>\n",
    "\n",
    "<script>\n",
    "var myChart = echarts.init(document.getElementById('mainnew'));\n",
    "const upColor = '#ec0000';\n",
    "const upBorderColor = '#8A0000';\n",
    "const downColor = '#00da3c';\n",
    "const downBorderColor = '#008F28';\n",
    "// Each item: open，close，lowest，highest\n",
    "const data0 = splitData(\n",
    "    @data\n",
    ");\n",
    "function splitData(rawData) {\n",
    "  const categoryData = [];\n",
    "  const values = [];\n",
    "  for (var i = 0; i < rawData.length; i++) {\n",
    "    categoryData.push(rawData[i].splice(0, 1)[0]);\n",
    "    values.push(rawData[i]);\n",
    "  }\n",
    "  return {\n",
    "    categoryData: categoryData,\n",
    "    values: values\n",
    "  };\n",
    "}\n",
    "function calculateMA(dayCount) {\n",
    "  var result = [];\n",
    "  for (var i = 0, len = data0.values.length; i < len; i++) {\n",
    "    if (i < dayCount) {\n",
    "      result.push('-');\n",
    "      continue;\n",
    "    }\n",
    "    var sum = 0;\n",
    "    for (var j = 0; j < dayCount; j++) {\n",
    "      sum += +data0.values[i - j][1];\n",
    "    }\n",
    "    result.push(sum / dayCount);\n",
    "  }\n",
    "  return result;\n",
    "}\n",
    "option = {\n",
    "      toolbox: {\n",
    "    show: true,\n",
    "    feature: {\n",
    "      dataZoom: {\n",
    "        yAxisIndex: 'none'\n",
    "      },\n",
    "      dataView: { readOnly: false },\n",
    "      magicType: { type: ['line', 'bar'] },\n",
    "      restore: {},\n",
    "      saveAsImage: {}\n",
    "    }\n",
    "  },\n",
    "  title: {\n",
    "    text: 'K line chart report',\n",
    "    left: 0\n",
    "  },\n",
    "  tooltip: {\n",
    "    trigger: 'axis',\n",
    "    axisPointer: {\n",
    "      type: 'cross'\n",
    "    }\n",
    "  },\n",
    "  legend: {\n",
    "    data: ['K-Day', 'MA5', 'MA10', 'MA20', 'MA30']\n",
    "  },\n",
    "  grid: {\n",
    "    left: '10%',\n",
    "    right: '10%',\n",
    "    bottom: '15%'\n",
    "  },\n",
    "  xAxis: {\n",
    "    type: 'category',\n",
    "    data: data0.categoryData,\n",
    "    scale: true,\n",
    "    boundaryGap: false,\n",
    "    axisLine: { onZero: false },\n",
    "    splitLine: { show: false },\n",
    "    min: 'dataMin',\n",
    "    max: 'dataMax'\n",
    "  },\n",
    "  yAxis: {\n",
    "    scale: true,\n",
    "    splitArea: {\n",
    "      show: true\n",
    "    }\n",
    "  },\n",
    "  dataZoom: [\n",
    "    {\n",
    "      type: 'inside',\n",
    "      start: 50,\n",
    "      end: 100\n",
    "    },\n",
    "    {\n",
    "      show: true,\n",
    "      type: 'slider',\n",
    "      top: '90%',\n",
    "      start: 50,\n",
    "      end: 100\n",
    "    }\n",
    "  ],\n",
    "  series: [\n",
    "    {\n",
    "      name: 'K-Day',\n",
    "      type: 'candlestick',\n",
    "      data: data0.values,\n",
    "      itemStyle: {\n",
    "        color: upColor,\n",
    "        color0: downColor,\n",
    "        borderColor: upBorderColor,\n",
    "        borderColor0: downBorderColor\n",
    "      },\n",
    "      markPoint: {\n",
    "        label: {\n",
    "          formatter: function (param) {\n",
    "            return param != null ? Math.round(param.value) + '' : '';\n",
    "          }\n",
    "        },\n",
    "        data: [\n",
    "          {\n",
    "            name: 'Mark',\n",
    "            coord: ['2013/5/31', 2300],\n",
    "            value: 2300,\n",
    "            itemStyle: {\n",
    "              color: 'rgb(41,60,85)'\n",
    "            }\n",
    "          },\n",
    "          {\n",
    "            name: 'highest value',\n",
    "            type: 'max',\n",
    "            valueDim: 'highest'\n",
    "          },\n",
    "          {\n",
    "            name: 'lowest value',\n",
    "            type: 'min',\n",
    "            valueDim: 'lowest'\n",
    "          },\n",
    "          {\n",
    "            name: 'average value on close',\n",
    "            type: 'average',\n",
    "            valueDim: 'close'\n",
    "          }\n",
    "        ],\n",
    "        tooltip: {\n",
    "          formatter: function (param) {\n",
    "            return param.name + '<br>' + (param.data.coord || '');\n",
    "          }\n",
    "        }\n",
    "      },\n",
    "      markLine: {\n",
    "        symbol: ['none', 'none'],\n",
    "        data: [\n",
    "          [\n",
    "            {\n",
    "              name: 'from lowest to highest',\n",
    "              type: 'min',\n",
    "              valueDim: 'lowest',\n",
    "              symbol: 'circle',\n",
    "              symbolSize: 10,\n",
    "              label: {\n",
    "                show: false\n",
    "              },\n",
    "              emphasis: {\n",
    "                label: {\n",
    "                  show: false\n",
    "                }\n",
    "              }\n",
    "            },\n",
    "            {\n",
    "              type: 'max',\n",
    "              valueDim: 'highest',\n",
    "              symbol: 'circle',\n",
    "              symbolSize: 10,\n",
    "              label: {\n",
    "                show: false\n",
    "              },\n",
    "              emphasis: {\n",
    "                label: {\n",
    "                  show: false\n",
    "                }\n",
    "              }\n",
    "            }\n",
    "          ],\n",
    "          {\n",
    "            name: 'min line on close',\n",
    "            type: 'min',\n",
    "            valueDim: 'close'\n",
    "          },\n",
    "          {\n",
    "            name: 'max line on close',\n",
    "            type: 'max',\n",
    "            valueDim: 'close'\n",
    "          }\n",
    "        ]\n",
    "      }\n",
    "    },\n",
    "    {\n",
    "      name: 'MA5',\n",
    "      type: 'line',\n",
    "      data: calculateMA(5),\n",
    "      smooth: true,\n",
    "      lineStyle: {\n",
    "        opacity: 0.5\n",
    "      }\n",
    "    },\n",
    "    {\n",
    "      name: 'MA10',\n",
    "      type: 'line',\n",
    "      data: calculateMA(10),\n",
    "      smooth: true,\n",
    "      lineStyle: {\n",
    "        opacity: 0.5\n",
    "      }\n",
    "    },\n",
    "    {\n",
    "      name: 'MA20',\n",
    "      type: 'line',\n",
    "      data: calculateMA(20),\n",
    "      smooth: true,\n",
    "      lineStyle: {\n",
    "        opacity: 0.5\n",
    "      }\n",
    "    },\n",
    "    {\n",
    "      name: 'MA30',\n",
    "      type: 'line',\n",
    "      data: calculateMA(30),\n",
    "      smooth: true,\n",
    "      lineStyle: {\n",
    "        opacity: 0.5\n",
    "      }\n",
    "    }\n",
    "  ]\n",
    "};\n",
    "myChart.setOption(option);\n",
    "      </script>\n",
    "\n",
    "      <hr>\n",
    "\n",
    "<div style=\"height: 50px\"></div>\n",
    "<h1 class=\"fw-light\">The difference between the SSE index and a certain indicator of the currently selected stock</h1>\n",
    "<div style=\"height: 30px\"></div>\n",
    "<div id=\"mainnew2\" style=\"height:350px;width:100%\"></div>\n",
    "<script>\n",
    "var myChart2 = echarts.init(document.getElementById('mainnew2'));\n",
    "option2 = {\n",
    "\n",
    "  tooltip: {\n",
    "    trigger: 'axis'\n",
    "  },\n",
    "  legend: {\n",
    "    data: ['SSE @title_sh indicator', 'Current self selected stocks with @title_stock indicator']\n",
    "  },\n",
    "  grid: {\n",
    "    left: '3%',\n",
    "    right: '4%',\n",
    "    bottom: '3%',\n",
    "    containLabel: true\n",
    "  },\n",
    "  toolbox: {\n",
    "    show: true,\n",
    "    feature: {\n",
    "      dataZoom: {\n",
    "        yAxisIndex: 'none'\n",
    "      },\n",
    "      dataView: { readOnly: false },\n",
    "      magicType: { type: ['line', 'bar'] },\n",
    "      restore: {},\n",
    "      saveAsImage: {}\n",
    "    }\n",
    "  },\n",
    "  xAxis: {\n",
    "    type: 'category',\n",
    "    boundaryGap: false,\n",
    "    data: @public_times\n",
    "  },\n",
    "  yAxis: {\n",
    "    type: 'value'\n",
    "  },\n",
    "  series: [\n",
    "    {\n",
    "      name: 'SSE @title_sh indicator',\n",
    "      type: 'line',\n",
    "      stack: 'Total',\n",
    "      data: @sh_list\n",
    "    },\n",
    "    {\n",
    "      name: 'Current self selected stocks with @title_stock indicator',\n",
    "      type: 'line',\n",
    "      stack: 'Total',\n",
    "      data: @stock_list\n",
    "    },\n",
    "\n",
    "  ]\n",
    "};\n",
    "myChart2.setOption(option2);\n",
    "\n",
    "</script>\n",
    "\n",
    "\n",
    "\n",
    "  </main>\n",
    "  </div>\n",
    "\n",
    "\n",
    " <footer class=\"my-5 pt-5 text-muted text-center text-small\">\n",
    "    <p class=\"mb-1\">&copy; 2020–2021 Part3-Analysis Report</p>\n",
    "  </footer>\n",
    "\n",
    "</div>\n",
    "\n",
    "\n",
    "</body>\n",
    "</html>\n",
    "#### configures the charts using the professional k-line chart configuration items. The charts are highly interactive, responsive and have a professional looking interface.\n",
    "#### As shown above, simply replace `Your Data List` with a list of data retrieved from within the program. The list data format is\n",
    "     [[Time, Open, High, Low, Close, Volume], [... , ...] , ...]\n",
    "\"\"\""
   ]
  },
  {
   "cell_type": "markdown",
   "id": "266b848a",
   "metadata": {},
   "source": [
    "#### The front-end page uses the 'Echarts' framework for data presentation. ECharts is an open source visualisation library implemented in JavaScript that runs smoothly on PC and mobile devices and is compatible with most current browsers (IE8/9/10/11, Chrome, Firefox, Safari etc.) The underlying reliance on ZRender, a lightweight vector graphics library, provides intuitive, interaction-rich and highly customisable data visualisation charts.\n",
    "#### \"ECharts\" offers the usual line, bar, scatter, pie and K-line charts, box charts for statistics, maps, heat maps and line charts for geographic data visualisation, relationship and sunburst charts for relational data visualisation, parallel coordinates for multidimensional data visualisation, and funnel charts for BI dashboards, and support for mixing and matching between diagrams\n",
    "#### 'Echarts' is introduced as follows:\n",
    "     <!DOCTYPE html>\n",
    "          <html>\n",
    "          <head>\n",
    "          <meta charset=\"utf-8\" />\n",
    "          <!-- Introduce the ECharts file you have just downloaded -->\n",
    "          <script src=\"echarts.js\"></script>\n",
    "          </head>\n",
    "        </html>"
   ]
  },
  {
   "cell_type": "markdown",
   "id": "ff772773",
   "metadata": {},
   "source": [
    "#### configures the charts using the professional k-line chart configuration items. The charts are highly interactive, responsive and have a professional looking interface.\n",
    "#### As shown above, simply replace 'Your Data List' with a list of data retrieved from within the program. The list data format is\n",
    "     [[Time, Open, High, Low, Close, Volume], [... , ...] , ...]"
   ]
  },
  {
   "cell_type": "markdown",
   "id": "0a6181c6",
   "metadata": {},
   "source": [
    "#### Echart configuration item for displaying charts"
   ]
  },
  {
   "cell_type": "markdown",
   "id": "240d65e9",
   "metadata": {},
   "source": [
    "#### Reading strings for display to front-end, web visualisation"
   ]
  },
  {
   "cell_type": "markdown",
   "id": "4baf79b1",
   "metadata": {},
   "source": [
    "## 2. Data acquisition and saving\n",
    "\n",
    "   #### In order to obtain stock data as quickly as possible, reduce API response time, and facilitate plotting, we specify that each stock obtains 500 pieces of data, with a time interval of 60 and an API average parameter of 5.\n",
    "     "
   ]
  },
  {
   "cell_type": "code",
   "execution_count": 3,
   "id": "ca7aeb09",
   "metadata": {},
   "outputs": [],
   "source": [
    "class Stock:\n",
    "    def __init__(self, code, scale=5, ma=5, datalen=5):\n",
    "        self.code = code\n",
    "        # Interval (minutes)\n",
    "        self.scale = scale\n",
    "        self.ma = ma\n",
    "        # Number \n",
    "        self.datalen = datalen\n",
    "        self.bass_message_list = False"
   ]
  },
  {
   "cell_type": "markdown",
   "id": "ce00fa6f",
   "metadata": {},
   "source": [
    "#### To make crawling and storing data efficient, we have encapsulated a data collection class Stock. the initialization function of this class accepts an incoming value code, i.e. the stock code."
   ]
  },
  {
   "cell_type": "markdown",
   "id": "db039b53",
   "metadata": {},
   "source": [
    "#### The default values for scale, ma and datalen are 5, 5 and 5 respectively, so if you need to change these parameters you can do so directly. The main method for obtaining API data in this class is get_storage_list."
   ]
  },
  {
   "cell_type": "code",
   "execution_count": 4,
   "id": "db89e84d",
   "metadata": {},
   "outputs": [],
   "source": [
    "    def get_storage_list(self) -> [[]]:\n",
    "        all_list_data = []\n",
    "        url = 'http://money.finance.sina.com.cn/quotes_service/api/json_v2.php' \\\n",
    "              '/CN_MarketData.getKLineData?symbol={0}&scale={1}&ma={2}&datalen=' \\\n",
    "              '{3}'.format(self.code, self.scale, self.ma, self.datalen)\n",
    "        res = requests.get(url=url).json()\n",
    "        for each_data in res:\n",
    "            all_list_data.append(\n",
    "                [\n",
    "                    # Time\n",
    "                    each_data['day'],\n",
    "                    # Opening Price\n",
    "                    each_data['open'],\n",
    "                    # Highest price\n",
    "                    each_data['high'],\n",
    "                    # Lowest Price\n",
    "                    each_data['low'],\n",
    "                    # Closing Price\n",
    "                    each_data['close'],\n",
    "                    # Volume (in hundreds of shares)\n",
    "                    each_data['volume']\n",
    "                ]\n",
    "            )\n",
    "        return all_list_data\n",
    "\n"
   ]
  },
  {
   "cell_type": "markdown",
   "id": "31cf22ad",
   "metadata": {},
   "source": [
    "#### In the process of getting the data, we only get 6 key fields, i.e. time, open, high, low, close and volume. Once the data has been obtained, the method storage_csv is called to store it as a csv file."
   ]
  },
  {
   "cell_type": "code",
   "execution_count": 5,
   "id": "81f51d88",
   "metadata": {},
   "outputs": [],
   "source": [
    "    @property\n",
    "    def storage_csv(self):\n",
    "        try:\n",
    "            f = open('{0}.csv'.format(self.code), 'w+')\n",
    "            csv_writer = csv.writer(f)\n",
    "            csv_writer.writerow([\"Time\", \"Open\", \"High\", \"Low\", \"Close\", \"Volume\"])\n",
    "            csv_writer.writerows(self.get_storage_list())\n",
    "\n",
    "            return True\n",
    "        except Exception as e:\n",
    "            return str(e)"
   ]
  },
  {
   "cell_type": "markdown",
   "id": "a3df38b6",
   "metadata": {},
   "source": [
    " #### To use, pass the stock code into the Stock class, it will crawl the data according to the default settings and then store the fetched file in a csv file in the current folder with the name of the stock. The file format is\n",
    "      | Stock Code |    Open    |   High    |   Low    |  Close    | Volume  |\n",
    "      |  --------  |  --------  |  ------   |  ------  |  -------  |-------  |\n",
    "      |    data    |    data    |   data    |   data   |   data    |   data  |\n",
    "      |    ...     |    ...     |   ...     |   ...    |   ...     |   ...   |"
   ]
  },
  {
   "cell_type": "code",
   "execution_count": 6,
   "id": "8dadf518",
   "metadata": {},
   "outputs": [],
   "source": [
    "    def get_base_message(self):\n",
    "        def get_message_list(input_list):\n",
    "            # Stock name\n",
    "            stock_name = input_list[0]\n",
    "            # Today's opening price\n",
    "            stock_price_today = input_list[1]\n",
    "            # Yesterday's closing price\n",
    "            stock_price_yesterday = input_list[2]\n",
    "            # Current price\n",
    "            stock_now_price = input_list[3]\n",
    "            # Today's high price\n",
    "            stock_today_hight_price = input_list[4]\n",
    "            # Today's lowest price\n",
    "            stock_today_low_price = input_list[5]\n",
    "            # Number of shares traded, in hundreds\n",
    "            stock_trade_nums = input_list[8]\n",
    "            # Amount traded in dollars\n",
    "            stock_trade_all_price = input_list[9]\n",
    "            # Date\n",
    "            stock_trade_date = input_list[30]\n",
    "            # Time\n",
    "            stock_trade_time = input_list[31]\n",
    "            return [\n",
    "                stock_name,\n",
    "                stock_price_today,\n",
    "                stock_price_yesterday,\n",
    "                stock_now_price,\n",
    "                stock_today_hight_price,\n",
    "                stock_today_low_price,\n",
    "                stock_trade_nums,\n",
    "                stock_trade_all_price,\n",
    "                stock_trade_date,\n",
    "                stock_trade_time\n",
    "            ]\n",
    "\n",
    "        url = 'http://hq.sinajs.cn/list={0}'.format(self.code)\n",
    "        res = requests.get(url=url)\n",
    "        result = res.text\n",
    "        try:\n",
    "            result = result.split(\"=\")[-1].replace('\\\"', '')\n",
    "            all_key_words = result.split(\",\")\n",
    "            s_l = get_message_list(input_list=all_key_words)\n",
    "            self.bass_message_list = s_l\n",
    "            return s_l\n",
    "\n",
    "        except Exception as e:\n",
    "            raise ValueError('Encountering errors: {0}'.format(str(e)))"
   ]
  },
  {
   "cell_type": "markdown",
   "id": "54308be0",
   "metadata": {},
   "source": [
    "#### Get basic information about this stock"
   ]
  },
  {
   "cell_type": "markdown",
   "id": "db6531fb",
   "metadata": {},
   "source": [
    "## 3、Data Cleaning"
   ]
  },
  {
   "cell_type": "markdown",
   "id": "ba445035",
   "metadata": {},
   "source": [
    "###  Define class CSVobjects for initial data cleaning"
   ]
  },
  {
   "cell_type": "code",
   "execution_count": 7,
   "id": "70e00b0b",
   "metadata": {},
   "outputs": [],
   "source": [
    "class CSVobjects:\n",
    "    def __init__(self, _content: list):\n",
    "        \"\"\"\n",
    "        :param _content: The key Value-List of `func-op`\n",
    "        \"\"\"\n",
    "        self._content = _content\n",
    "        # 实际继承csv.reader()类\n",
    "\n",
    "    @property\n",
    "    def index(self):\n",
    "        return [i+1 for i in range(self.rows - 1)]\n",
    "\n",
    "    @property\n",
    "    def header(self):\n",
    "        return self._content[:1][0]\n",
    "\n",
    "    @property\n",
    "    def rows(self) -> int or str:\n",
    "        try:\n",
    "            return len(self._content)\n",
    "        except Exception as e:\n",
    "            return \"error:%s\" % str(e)\n",
    "\n",
    "    @property\n",
    "    def columns(self) -> int or str:\n",
    "        try:\n",
    "            max = len(self._content[0])\n",
    "            for each_row in self._content[1:]:\n",
    "                if max < len(each_row):\n",
    "                    max = len(each_row)\n",
    "                else:\n",
    "                    pass\n",
    "            return max\n",
    "        except IndexError:\n",
    "            return \"error:First row have no datas\"\n",
    "\n",
    "    @staticmethod\n",
    "    def __get_iterator(start_value: int, end_value: int, equal: bool):\n",
    "        if equal == True:\n",
    "            while start_value <= end_value:\n",
    "                yield start_value\n",
    "                start_value += 1\n",
    "        else:\n",
    "            while start_value < end_value:\n",
    "                yield start_value\n",
    "                start_value += 1\n",
    "\n",
    "    def specifyROW(self, **kwargs) -> str or list:\n",
    "        \"\"\"\n",
    "        :param kwargs: start_num:int,end_num:int,equal:bool\n",
    "        :return: List\n",
    "\n",
    "        * When equal is true, data in the range `[start_num,end_num]` will be returned\n",
    "\n",
    "        * When equal is False, data in the range `[start_num,end_num)` will be returned\n",
    "        \"\"\"\n",
    "        if \"start_num\" not in kwargs:\n",
    "            kwargs.setdefault(\"start_num\", 0)\n",
    "        if \"end_num\" not in kwargs:\n",
    "            kwargs.setdefault(\"end_num\", len(self._content))\n",
    "        if \"equal\" not in kwargs:\n",
    "            kwargs.setdefault(\"equal\", False)\n",
    "\n",
    "        start_num = int(kwargs[\"start_num\"])\n",
    "        end_num = int(kwargs[\"end_num\"])\n",
    "\n",
    "        if start_num >= end_num:\n",
    "            return \"start_num '%s' must smaller than '%s\" % (start_num, end_num)\n",
    "        elif start_num < 0 or end_num < 0:\n",
    "            return \"input must bigger than 0 or it is 0.\"\n",
    "        else:\n",
    "            return_list:[] = []\n",
    "            for i in self.__get_iterator(start_num,end_num,kwargs[\"equal\"]):\n",
    "                return_list.append(self._content[i])\n",
    "            return return_list"
   ]
  },
  {
   "cell_type": "markdown",
   "id": "c9b9d11d",
   "metadata": {},
   "source": [
    "#### Its role is to read the content within the target csv file and has multiple functions to perform the extraction of information from the target csv file. The initialisation function accepts a '_content' field. This field is a list of the contents of the target function, i.e. it requires a call to the 'CSVread' function as described above. The initialisation function copies this to the class variable '_content' for subsequent class functions to be called in the class."
   ]
  },
  {
   "cell_type": "markdown",
   "id": "bc29ea96",
   "metadata": {},
   "source": [
    "#### Output csv file line numbers"
   ]
  },
  {
   "cell_type": "markdown",
   "id": "ea97a886",
   "metadata": {},
   "source": [
    "#### The CSVobjects class has the method 'header' to return the header of the current csv file."
   ]
  },
  {
   "cell_type": "markdown",
   "id": "0e90755c",
   "metadata": {},
   "source": [
    "#### Return the number of rows and columns"
   ]
  },
  {
   "cell_type": "markdown",
   "id": "a667f554",
   "metadata": {},
   "source": [
    "#### This function calls a private class function '__get_iterator' to scan the entire list of data item by item based on the condition and return the target list of data.\n",
    "#### The class decorator '@staticmethod' turns '__get_iterator' into a static method, which essentially generates an iterator that keeps returning the list of data that matches the condition. The advantage is that it does not take up too much memory and saves time."
   ]
  },
  {
   "cell_type": "markdown",
   "id": "4eb5318d",
   "metadata": {},
   "source": [
    "#### The main function 'specifyROW' is used to return a list of data in the appropriate range based on user input.\n",
    "#### This function can receive multiple input values, the input value 'start_num' represents the start index position, for example, when 'start_num' is 0, it will return the first line of the csv file, that is, the location of the file header; 'end_num' for the end index position, if these two parameters are not passed, the program will default to the full list of data returned; 'equal' indicates whether the end index position is desirable, if 'True' is considered desirable, then the returned data list contains the end index position of the list of data in that line."
   ]
  },
  {
   "cell_type": "code",
   "execution_count": 8,
   "id": "e0ea1005",
   "metadata": {},
   "outputs": [],
   "source": [
    "def draw_sh_this(input_list_stock, sh_stock_list, type='open'):\n",
    "    global flag_num\n",
    "    publicTime = []\n",
    "    public_all = []\n",
    "    public_sh = []\n",
    "    for eachTIMES in input_list_stock[0]:\n",
    "        if eachTIMES in sh_stock_list[0]:\n",
    "            publicTime.append(eachTIMES)\n",
    "    for i in range(0, len(input_list_stock[0])):\n",
    "        if input_list_stock[0][i] in publicTime:\n",
    "            public_all.append(\n",
    "                [\n",
    "                    input_list_stock[0][i],\n",
    "                    input_list_stock[1][i],\n",
    "                    input_list_stock[2][i],\n",
    "                    input_list_stock[3][i],\n",
    "                    input_list_stock[4][i],\n",
    "                    input_list_stock[5][i],\n",
    "\n",
    "                 ]\n",
    "            )\n",
    "    for j in range(0, len(sh_stock_list[0])):\n",
    "        if sh_stock_list[0][j] in publicTime:\n",
    "            public_sh.append(\n",
    "                [\n",
    "                    sh_stock_list[0][j],\n",
    "                    sh_stock_list[1][j],\n",
    "                    sh_stock_list[2][j],\n",
    "                    sh_stock_list[3][j],\n",
    "                    sh_stock_list[4][j],\n",
    "                    sh_stock_list[5][j],\n",
    "\n",
    "                ]\n",
    "            )\n",
    "    if type == 'open':\n",
    "        flag_num = 1\n",
    "    elif type == 'high':\n",
    "        flag_num = 2\n",
    "    elif type == 'low':\n",
    "        flag_num = 3\n",
    "    elif type == 'close':\n",
    "        flag_num = 4\n",
    "    elif type == 'volume':\n",
    "        flag_num = 5\n",
    "\n",
    "    x_label_sh = [float(i[flag_num]) for i in public_sh]\n",
    "    x_label = [float(i[flag_num]) for i in public_all]\n",
    "    times_sh = [i[0] for i in public_sh]\n",
    "\n",
    "    ###################################################\n",
    "\n",
    "    # Average price: Self-selecting function\n",
    "    averge_self_stock = [(float(i[2]) + float(i[3]))/2 for i in public_all]\n",
    "    # Average price: Self-selecting function\n",
    "    averge_sh_stock = [(float(i[2]) + float(i[3])) / 2 for i in public_sh]\n",
    "    # Average price: Self-selecting function\n",
    "    plt.scatter(averge_self_stock, averge_sh_stock, color='red', label='sz002217')\n",
    "    plt.legend()  # Average price: Self-selecting function\n",
    "    plt.show()\n",
    "    \n",
    "\n",
    "    return str(x_label_sh), str(x_label), str(times_sh), type"
   ]
  },
  {
   "cell_type": "markdown",
   "id": "33da5c0c",
   "metadata": {},
   "source": [
    "#### This function accepts three fields, the first 'input_list_stock' accepts a list of data for the selected stock; the second parameter 'sh_stock_list' is a list of data for the broad market, the 'type' is the name of the indicator to be extracted, optionally open, close, high, low and volme.\n",
    "#### iterates over each of the two lists, extracting the target parameters (depending on the value of type) and the respective time lists and returning them. Subsequent code will embed this in the HTML page and eventually render the chart."
   ]
  },
  {
   "cell_type": "markdown",
   "id": "0821cb14",
   "metadata": {},
   "source": [
    "#### Select a stock code and use `return_DF_list` to obtain a list of its data and also perform this analysis on the broader stock market. It is then necessary to find the intersections in time where that stock overlaps with the broader market data in time, and gradually remove the common parts by iterative methods until the cleaning is finally completed."
   ]
  },
  {
   "cell_type": "code",
   "execution_count": 9,
   "id": "e48b647b",
   "metadata": {},
   "outputs": [],
   "source": [
    "# read csv function\n",
    "def CSVread(PATH, Reading_method='r'):\n",
    "    with open(PATH, Reading_method) as this_file_read:\n",
    "        csv_reader = csv.reader(this_file_read)\n",
    "        _content_List_ = []\n",
    "        for i in csv_reader:\n",
    "            _content_List_.append(i)\n",
    "    return _content_List_"
   ]
  },
  {
   "cell_type": "markdown",
   "id": "3035f38c",
   "metadata": {},
   "source": [
    "#### The function accepts an incoming value 'PATH' that is, the file address of the file to be read, 'Reading_method' for the reading method, where the default is 'r', that is, read-only mode. The function uses Python's own 'csv' library to read the file, storing each line of data in a list, and then storing each line in a total list to be returned for subsequent iterations of the data."
   ]
  },
  {
   "cell_type": "code",
   "execution_count": 10,
   "id": "491a0cdc",
   "metadata": {},
   "outputs": [],
   "source": [
    "def return_DF_list(code):\n",
    "    var_path = '{0}.csv'.format(code)\n",
    "    CSVobj = CSVobjects(_content=CSVread(PATH=var_path))\n",
    "    all_content = CSVobj.specifyROW()[1:]\n",
    "    header = CSVobj.header\n",
    "    index = CSVobj.index\n",
    "    DF = pd.DataFrame(data=all_content, columns=header, index=index)\n",
    "    # Get the number of rows\n",
    "    All_Rows = DF.shape[0]\n",
    "    # Get the number of columns\n",
    "    All_Columns = DF.shape[1]\n",
    "    # Get the statistics\n",
    "    # print(DF.describe())\n",
    "    # Determine if any values are empty\n",
    "    ALL_list = []\n",
    "    for columns in header:\n",
    "        the_loop = []\n",
    "        for rows in range(1, All_Rows + 1):\n",
    "            time.sleep(0.001)\n",
    "            cur_value = DF.loc[rows, '{0}'.format(columns)]\n",
    "            the_loop.append(cur_value)\n",
    "            print('\\r', \"< {0} > The system is checking the value of column label {1}\".format(var_path, columns) + \"and row label {0}\".format(rows), end='', flush=True)\n",
    "            if not cur_value:\n",
    "                print('The value of column label {0}, row label {1} is empty. '.format(columns, rows))\n",
    "            else:\n",
    "                pass\n",
    "        ALL_list.append(the_loop)\n",
    "    return ALL_list"
   ]
  },
  {
   "cell_type": "markdown",
   "id": "fa2a8126",
   "metadata": {},
   "source": [
    "#### As shown in the code above, the function accepts a parameter 'code', the stock code, which is automatically stitched into the corresponding file path, and uses 'CSVobjects' to initially collate the data, then obtains the initial DataFrame' will be constructed after obtaining the preliminary list of data and the file header. Once loaded, it will iterate over the row labels (i.e. the file header) and then iterate over the row labels a second time under them, using the 'DF.loc' function to locate the elements in the current table and determine if they are empty. If it is empty the program will print the empty value and stop running. The program will then progressively read and determine the value within each table and store the data for each column separately by row label.\n",
    "#### The 'return_DF_list' function eventually returns a list of the data in the csv file, grouped by row label. Subsequent analysis of the data is based on this data"
   ]
  },
  {
   "cell_type": "markdown",
   "id": "15492198",
   "metadata": {},
   "source": [
    "## Data analysis and problem formulation"
   ]
  },
  {
   "cell_type": "markdown",
   "id": "a21f6fee",
   "metadata": {},
   "source": [
    "*### Question 1: Correlation analysis of stock averages and number of share capital"
   ]
  },
  {
   "cell_type": "code",
   "execution_count": 11,
   "id": "288ed47e",
   "metadata": {},
   "outputs": [],
   "source": [
    "def boxplot(input_dict):\n",
    "    labels = []\n",
    "    alldata = []\n",
    "    for code, paths in input_dict.items():\n",
    "        labels.append(code)\n",
    "        cur_all_average = []\n",
    "        list_cur = return_DF_list(code=code)\n",
    "        for j in range(0, len(list_cur[0])):\n",
    "            cur_all_average.append(\n",
    "                    (float(list_cur[2][j]) + float(list_cur[3][j])) / 2,\n",
    "            )\n",
    "        alldata.append(cur_all_average)\n",
    "\n",
    "    plt.boxplot(alldata, labels=labels)\n",
    "    plt.show()"
   ]
  },
  {
   "cell_type": "markdown",
   "id": "d45c9899",
   "metadata": {},
   "source": [
    "#### Write data visualisation code to extract relevant stock data and perform data extraction based on the stock code selected by the user."
   ]
  },
  {
   "cell_type": "markdown",
   "id": "0b79cafe",
   "metadata": {},
   "source": [
    "#### The function 'boxplot' accepts a 'input_dict' argument in the form of a dictionary. The dictionary is all the ticker symbols that need to be displayed visually. The program iterates through the dictionary by disassembling the dictionary key-value pairs, putting all the keys of the dictionary, i.e. the ticker symbols, into the 'label' list; at the same time, according to the value, i.e. the path of the file corresponding to the ticker data, the 'return_DF_list' method The list of all the data in that file (sorted by column label) is obtained. It is now known that the second and third positions correspond to the lowest and highest prices of the stock. These two variables are taken out of the iterator and averaged to obtain a list of the means of all the data bars for the stock, which is then stored in the list 'cur_all_average'. Finally a box plot is drawn using plt."
   ]
  },
  {
   "cell_type": "markdown",
   "id": "5626a949",
   "metadata": {},
   "source": [
    "#### Allow the user to select the ticker symbols to be analysed (data must be obtained in advance and stored in a csv file)"
   ]
  },
  {
   "cell_type": "code",
   "execution_count": 12,
   "id": "a922c5df",
   "metadata": {},
   "outputs": [],
   "source": [
    "class Setting(object):\n",
    "    def __init__(self):\n",
    "        # Custom rules need to be added to this again\n",
    "        self.all_return = []\n",
    "\n",
    "    @staticmethod\n",
    "    def add(func):\n",
    "        def target_adding():\n",
    "            target_static = {}\n",
    "            for eachscode in func():\n",
    "                target_static['{0}'.format(eachscode)] = '{0}.csv'.format(eachscode)\n",
    "            return target_static\n",
    "        return target_adding()\n",
    "\n",
    "    @property\n",
    "    def return_all_static(self) -> dict:\n",
    "        @self.add\n",
    "        def _():\n",
    "            #  Add the ticker symbols to be compared here\n",
    "            static_lists = [\n",
    "                'sz002217',\n",
    "                'sz000620',\n",
    "                'sz002613',\n",
    "                'sz002317',\n",
    "                'sz300398',\n",
    "                'sh600476'\n",
    "            ]\n",
    "            return static_lists\n",
    "        return _"
   ]
  },
  {
   "cell_type": "markdown",
   "id": "cc557949",
   "metadata": {},
   "source": [
    "#### A 'Setting' class was written to obtain the user's selection, which defines a main function 'return_all_static'. Within this function, an unnamed function '_' is decorated using the 'add' decorator. The unnamed function returns a list of stocks, which are the stock codes to be compared. The decorator transforms the list of stocks within that function into a dictionary in the format of:\n",
    "     \"stock code\" : \"corresponding data file storage address\"\n"
   ]
  },
  {
   "cell_type": "markdown",
   "id": "03ad1d5c",
   "metadata": {},
   "source": [
    "#### The advantage of this is that the user can simply delete the list of stocks within the no-name function and the data cleaning process can then determine which stocks need to be cleaned, making it easier for the user to manage the visualisation of the stock data."
   ]
  },
  {
   "attachments": {
    "box.jpg": {
     "image/jpeg": "[encoded data removed]"
    }
   },
   "cell_type": "markdown",
   "id": "79016a70",
   "metadata": {},
   "source": [
    "![box.jpg](attachment:box.jpg)"
   ]
  },
  {
   "cell_type": "markdown",
   "id": "32ebdd87",
   "metadata": {},
   "source": [
    "#### As can be seen from the chart, sz002317 has the highest overall mean and the entire box is at the highest and the box is the longest in width, indicating the highest variance and the lowest stability. This means that sz300398 has the highest returnable range, but also the highest risk due to the high and variable share price. sz002217 and sz000620 have about the same stability in comparison, both being at a lower level with a smoother share price, but are more suitable for risk averse investment players as sz000620 has a lower share price and the lowest overall and mean values."
   ]
  },
  {
   "cell_type": "markdown",
   "id": "517cf523",
   "metadata": {},
   "source": [
    "* ### Question 2: Correlation analysis of stock averages and equity numbers"
   ]
  },
  {
   "cell_type": "markdown",
   "id": "4f3836c4",
   "metadata": {},
   "source": [
    "#### The above uses 'return_DF_list' to obtain a list of its data and clean it to obtain the following image:"
   ]
  },
  {
   "attachments": {
    "plot.jpg": {
     "image/jpeg": "[encoded data removed]"
    }
   },
   "cell_type": "markdown",
   "id": "4f887fab",
   "metadata": {},
   "source": [
    "![plot.jpg](attachment:plot.jpg)"
   ]
  },
  {
   "cell_type": "markdown",
   "id": "fc00f056",
   "metadata": {},
   "source": [
    "#### From the graph, we can see that the share price of sz002217 is positively correlated with the price of the general market, and from the bottom left corner of the image to the top right is the correlation tendency of the image. The higher the price of the general market, the higher the share price becomes; when the general market moves badly, the share price also falls."
   ]
  },
  {
   "cell_type": "markdown",
   "id": "54ed775d",
   "metadata": {},
   "source": [
    "* ### Question 3: The relationship between trading volume and share price (mean) of a stock"
   ]
  },
  {
   "cell_type": "markdown",
   "id": "a4262cfd",
   "metadata": {},
   "source": [
    "#### It can be seen that it is only necessary to obtain the time series as well as the share price, as follows:"
   ]
  },
  {
   "cell_type": "code",
   "execution_count": 13,
   "id": "61e5bc04",
   "metadata": {},
   "outputs": [],
   "source": [
    "def q3(code):\n",
    "    the_stock_list = return_DF_list(code=code)\n",
    "    # Trading volume for this period\n",
    "    v = [float(i) / 39030660 for i in the_stock_list[5]]\n",
    "    print('\\n')\n",
    "    print(v)\n",
    "    times = the_stock_list[0]\n",
    "    aver_price = []\n",
    "    for i in range(0, len(the_stock_list[0])):\n",
    "        aver_price.append((float(the_stock_list[2][i]) + float(the_stock_list[3][i])) / 2)\n",
    "    print(aver_price)\n",
    "    plt.plot(times, aver_price, color='green', label='aver_price')\n",
    "    plt.bar(times, v, color='red', label='Volume')\n",
    "    plt.legend()\n",
    "    plt.yticks([])  # Removing the y-axis\n",
    "    plt.xticks([])  # Removing the x-axis\n",
    "    plt.show()"
   ]
  },
  {
   "cell_type": "markdown",
   "id": "204f463b",
   "metadata": {},
   "source": [
    "#### The function 'q3' takes a single argument, 'code'. The function 'return_DF_list' is called to obtain a list of data for this stock. The data list is traversed and since the lowest and highest prices are in the third and fourth columns of the list, this logic is used to extract the lowest and highest prices and average them out into the list. The same can be done for the time list and the volume list."
   ]
  },
  {
   "cell_type": "code",
   "execution_count": null,
   "id": "a98ead0e",
   "metadata": {
    "scrolled": true
   },
   "outputs": [
    {
     "name": "stdout",
     "output_type": "stream",
     "text": [
      " < sh600476.csv > The system is checking the value of column label Volumeand row label 500sz002217.csv > The system is checking the value of column label Lowand row label 203< sz002217.csv > The system is checking the value of column label Volumeand row label 268< sz000620.csv > The system is checking the value of column label Timeand row label 167< sz000620.csv > The system is checking the value of column label Timeand row label 175< sz000620.csv > The system is checking the value of column label Timeand row label 466< sz000620.csv > The system is checking the value of column label Closeand row label 54< sz000620.csv > The system is checking the value of column label Closeand row label 190< sz000620.csv > The system is checking the value of column label Closeand row label 406< sz000620.csv > The system is checking the value of column label Closeand row label 438< sz000620.csv > The system is checking the value of column label Volumeand row label 219< sz002613.csv > The system is checking the value of column label Timeand row label 44< sz002613.csv > The system is checking the value of column label Timeand row label 102< sz002613.csv > The system is checking the value of column label Openand row label 197< sz002613.csv > The system is checking the value of column label Highand row label 26< sz002613.csv > The system is checking the value of column label Highand row label 64< sz002613.csv > The system is checking the value of column label Lowand row label 455< sz002613.csv > The system is checking the value of column label Closeand row label 440< sz002613.csv > The system is checking the value of column label Volumeand row label 374< sz002317.csv > The system is checking the value of column label Timeand row label 282< sz002317.csv > The system is checking the value of column label Highand row label 167< sz002317.csv > The system is checking the value of column label Closeand row label 307< sz002317.csv > The system is checking the value of column label Closeand row label 394< sz300398.csv > The system is checking the value of column label Timeand row label 112< sz300398.csv > The system is checking the value of column label Highand row label 47< sz300398.csv > The system is checking the value of column label Closeand row label 111< sh600476.csv > The system is checking the value of column label Timeand row label 207< sh600476.csv > The system is checking the value of column label Openand row label 229< sh600476.csv > The system is checking the value of column label Highand row label 397< sh600476.csv > The system is checking the value of column label Lowand row label 493< sh600476.csv > The system is checking the value of column label Closeand row label 4< sh600476.csv > The system is checking the value of column label Closeand row label 233< sh600476.csv > The system is checking the value of column label Closeand row label 302< sh600476.csv > The system is checking the value of column label Volumeand row label 433"
     ]
    },
    {
     "data": {
      "image/png": "[encoded data removed]",
      "text/plain": [
       "<Figure size 432x288 with 1 Axes>"
      ]
     },
     "metadata": {
      "needs_background": "light"
     },
     "output_type": "display_data"
    },
    {
     "name": "stdout",
     "output_type": "stream",
     "text": [
      " < sh000001.csv > The system is checking the value of column label Volumeand row label 500sz002217.csv > The system is checking the value of column label Highand row label 169< sz002217.csv > The system is checking the value of column label Highand row label 185< sz002217.csv > The system is checking the value of column label Highand row label 473< sz002217.csv > The system is checking the value of column label Lowand row label 191< sz002217.csv > The system is checking the value of column label Lowand row label 227< sz002217.csv > The system is checking the value of column label Volumeand row label 146< sh000001.csv > The system is checking the value of column label Timeand row label 170< sh000001.csv > The system is checking the value of column label Timeand row label 244< sh000001.csv > The system is checking the value of column label Timeand row label 250< sh000001.csv > The system is checking the value of column label Timeand row label 264< sh000001.csv > The system is checking the value of column label Openand row label 368< sh000001.csv > The system is checking the value of column label Openand row label 427< sh000001.csv > The system is checking the value of column label Highand row label 95< sh000001.csv > The system is checking the value of column label Highand row label 179< sh000001.csv > The system is checking the value of column label Lowand row label 300< sh000001.csv > The system is checking the value of column label Lowand row label 360< sh000001.csv > The system is checking the value of column label Lowand row label 448< sh000001.csv > The system is checking the value of column label Closeand row label 259< sh000001.csv > The system is checking the value of column label Volumeand row label 129"
     ]
    },
    {
     "data": {
      "image/png": "[encoded data removed]",
      "text/plain": [
       "<Figure size 432x288 with 1 Axes>"
      ]
     },
     "metadata": {
      "needs_background": "light"
     },
     "output_type": "display_data"
    },
    {
     "name": "stdout",
     "output_type": "stream",
     "text": [
      " < sz000620.csv > The system is checking the value of column label Volumeand row label 500sz000620.csv > The system is checking the value of column label Openand row label 375< sz000620.csv > The system is checking the value of column label Highand row label 80< sz000620.csv > The system is checking the value of column label Highand row label 274< sz000620.csv > The system is checking the value of column label Lowand row label 324< sz000620.csv > The system is checking the value of column label Closeand row label 46< sz000620.csv > The system is checking the value of column label Closeand row label 223< sz000620.csv > The system is checking the value of column label Closeand row label 282< sz000620.csv > The system is checking the value of column label Closeand row label 406< sz000620.csv > The system is checking the value of column label Volumeand row label 149< sz000620.csv > The system is checking the value of column label Volumeand row label 201\n",
      "\n",
      "[0.1616472793439824, 0.2501267208907049, 0.14510948572225016, 0.08515028954160653, 0.13143807970451948, 0.06309442371714954, 0.09218137740945195, 0.16538024209685412, 0.32961810023197147, 0.044839108536724716, 0.07661669057095115, 0.09921943415765964, 0.13906503246422172, 0.14333347168610522, 0.09170482897291514, 0.10208128686524902, 0.12127132874514548, 0.08022923517050441, 0.05832156053728018, 0.07518960734970918, 0.22037290683785515, 0.04618133539120271, 0.04082687815168896, 0.11873742334872124, 0.05398320192382092, 0.12467122001011513, 0.03058364885451591, 0.062202381409896736, 0.0841722891695913, 0.022398801352577692, 0.0557607788338706, 0.09875510688264047, 0.05915093416304003, 0.09574268024163568, 0.04154938707159961, 0.04746781120278263, 0.07148482756889071, 0.053012170432167945, 0.06453388182521126, 0.06913539253499684, 0.07167186001978958, 0.0499197297714156, 0.08722191733370638, 0.10719244819329214, 0.11168645367513642, 0.06801586240150692, 0.03947153340476436, 0.06400865370967337, 0.13565489284577817, 0.035256898038618874, 0.10954231878220866, 0.05365269252428732, 0.08528935969824748, 0.03922301083302204, 0.025036727536762126, 0.08819978960130317, 0.24385985274140892, 0.04657599948348298, 0.02469340769538614, 0.04878728671254855, 0.11227327439505251, 0.1129342931941197, 0.03422181433775396, 0.06404452294683205, 0.07414939947210732, 0.06445701917415693, 0.03725020278929436, 0.045722004188502065, 0.08906469939273381, 0.07891232174910698, 0.03550898191319337, 0.05444271247270736, 0.08275545430182324, 0.05028505795187681, 0.034565134179129944, 0.04689075203955045, 0.04923309008866363, 0.022169750652435802, 0.05120333604402283, 0.06429868211298502, 0.09220443620476824, 0.05020668366868508, 0.017488815203227412, 0.04380914901259676, 0.07213559801448399, 0.03787942607170875, 0.015002077853666836, 0.03193130733633508, 0.06929426763472614, 0.07360364902873792, 0.02419380046353303, 0.048318424541117164, 0.03984047412982512, 0.0400299918064414, 0.02462166922106877, 0.03256414316334902, 0.07718803627712163, 0.03224388211728933, 0.05288150392537559, 0.041390537592754004, 0.042251399284562445, 0.02895416065216422, 0.02214156768038255, 0.04334566722673919, 0.03969446071370558, 0.025374923201401153, 0.05063455242622082, 0.04471100411830085, 0.16078193399752913, 0.03266662669808812, 0.024473068095697076, 0.0517413746014031, 0.08191508931696262, 0.051129061102220666, 0.08714431167702519, 0.13636715341221492, 0.08355226378441974, 0.09183805756807598, 0.041434093095018124, 0.07132856579929726, 0.29918540962412626, 0.1263007082124668, 0.03396560550090621, 0.08392889077458593, 0.13516048665331307, 0.03512366944345804, 0.03184675842017532, 0.04853363996406927, 0.09606296690857904, 0.018006357053659865, 0.07399311208163019, 0.027101847624406043, 0.08003707854286861, 0.04281762081399597, 0.02432446697032538, 0.40736825869713705, 0.3013554472304593, 0.050255363347686155, 0.0392614421585492, 0.09770267784352096, 0.1079920247313266, 0.11052849221611932, 0.03799577050452132, 0.07493552504620726, 0.05870359353390386, 0.0552488735778488, 0.032323306856712135, 0.04339921487364037, 0.11228864692526337, 0.037270699496242184, 0.02300242937219099, 0.035405499163990564, 0.1637295910445788, 0.03477840241492201, 0.023776180059471196, 0.10687541537857674, 0.3183644345240383, 0.06749058304420166, 0.0685947918892481, 0.08390326989090115, 0.12160696232141603, 0.07808220511772028, 0.056966907554215074, 0.10125175951418705, 0.19232257409943876, 0.1345250118752796, 0.1747626097022187, 0.08486036362182961, 0.17890294450567837, 0.053829476621712266, 0.0372348302590835, 0.059503375039007794, 0.08381531339721132, 0.04509531737357247, 0.05106780156933037, 0.08775665079709132, 0.14835004071158417, 0.05016405051823362, 0.1482986964606799, 0.15096080875906276, 0.13608532369168239, 0.060818853690918884, 0.06985175244282316, 0.05379411980222727, 0.20894343062607704, 0.09440014593655346, 0.035241525508408006, 0.07513836558233963, 0.2262790329448695, 0.06195134799155331, 0.0431788752739513, 0.08309364996646226, 0.1233414961468753, 0.03629139245915903, 0.055797160488702986, 0.07300875773046113, 0.0847400479520459, 0.024567865365330743, 0.034145310379071224, 0.051963687009135895, 0.1150864474236408, 0.03742186270998236, 0.0640112926606929, 0.047239016711477594, 0.07714960495159447, 0.04124654822644557, 0.04754211176546848, 0.03171509269891926, 0.1243234165140943, 0.022620678205287844, 0.04158669107824464, 0.035802622861104576, 0.1535254592159087, 0.04598692412580264, 0.032787121714057614, 0.0453310295034724, 0.06766995485087877, 0.0410267210444302, 0.030004616883239996, 0.0727274404276023, 0.11872853290208261, 0.037428191068252493, 0.06086522749038833, 0.02619991565605091, 0.08839973497757916, 0.018546957699408617, 0.03548748599178184, 0.03337888726452486, 0.07443763441356104, 0.03301250862783258, 0.029259049168013043, 0.0477906343372108, 0.06240478639100645, 0.022200495712857534, 0.06343474591513441, 0.04229751687519504, 0.10398748061139627, 0.0228077106561867, 0.052238419744887736, 0.023584023431835383, 0.061011010318554694, 0.01701995303179603, 0.026069249149258556, 0.03334558011573466, 0.061666904940884934, 0.02587255762521054, 0.03740392809140301, 0.06974004538995754, 0.04655826983197312, 0.024024702631213514, 0.026507648089988744, 0.019810067265068027, 0.032735803084037014, 0.02391914459043224, 0.013786623131661109, 0.03412289210584704, 0.13633128417505622, 0.04258447077246452, 0.030732249979887605, 0.042640836716571026, 0.0657124424747109, 0.040252970357149996, 0.12321398100877617, 0.053027542962378806, 0.06313036981695928, 0.037634003626892294, 0.0341833830122268, 0.04171848490391913, 0.04333003848769147, 0.020760602049773178, 0.021516418118474042, 0.038398018378372284, 0.040908864979480236, 0.014094637395319475, 0.026532987143952986, 0.039894277985563144, 0.1009442320473187, 0.030101463823568445, 0.009730811623477543, 0.033671657102390784, 0.08940663570639082, 0.037278385761347614, 0.02092457570535574, 0.032374548624081685, 0.039194827860968784, 0.012239096136217015, 0.12078514685634319, 0.027253753843773074, 0.08258440928234367, 0.028428932536626334, 0.03077326901466693, 0.031225195781982677, 0.08599395962046248, 0.01921053858684429, 0.014278518477525105, 0.02860827872241976, 0.054713397108837, 0.06292294314264735, 0.04208486354061141, 0.024811263760336107, 0.05015544190131553, 0.026673902004219246, 0.02291788045603123, 0.02839050121109917, 0.052606643085205324, 0.03877792484165013, 0.045462515878542664, 0.022100599887370596, 0.05029635676158179, 0.048879521893813734, 0.03279401373176882, 0.04788696885986555, 0.05803386363438384, 0.018221572476611977, 0.02291788045603123, 0.03038893013851162, 0.024634479662911157, 0.033686389110509536, 0.02347213703278397, 0.020670928956876465, 0.08283487904124603, 0.01923544208578589, 0.018796505106498326, 0.03609470093511101, 0.047470680741755325, 0.02701978393396371, 0.038469756852689656, 0.03947153340476436, 0.07994484336160342, 0.03567277622259014, 0.04907424060981803, 0.08058024127698583, 0.40755244722994693, 0.019861437136856, 0.0069893770692066185, 0.006866396827519699, 1.3164842715957148, 0.08154384271237022, 0.07472420399757523, 0.2631139980722847, 0.5726226253924479, 0.08228915421876033, 0.116893975146718, 0.13895132698242868, 0.37928367083723413, 0.058090229578490346, 0.0793932513567539, 0.12663890387710586, 0.22577122703023725, 0.08943481867844408, 0.06969392779932494, 0.08365474731915884, 0.14340736231465212, 0.06081629160255041, 0.08018311757987183, 0.1161343415663481, 0.11593193658523837, 0.037314254998506304, 0.07937862183216988, 0.20171321725023353, 0.16196244183418881, 0.0340014747380649, 0.041551949159968085, 0.08927340711123, 0.10093167781431316, 0.04628156428817755, 0.03179687455964106, 0.05930465946514868, 0.1655314053105943, 0.0347254184274619, 0.05459554104388704, 0.060419167905436395, 0.12040534287660008, 0.024708780225597006, 0.03412173916608123, 0.07103390001603867, 0.10882967390251663, 0.020970693295988333, 0.03777799299320073, 0.034542075383813646, 0.09474182604137363, 0.03418235817687941, 0.02822908964388509, 0.03342500485515746, 0.07373526350822661, 0.018531585169197753, 0.020816711785042834, 0.040035192845829404, 0.0620590581865641, 0.028013874220932978, 0.04408841664476081, 0.07314367730394515, 0.08461809254570637, 0.03535169530825254, 0.045079944843361607, 0.05823626861549357, 0.06054471023549179, 0.022356783103334662, 0.05761296375721036, 0.04551549986600278, 0.06994245037106726, 0.0575829360815318, 0.027455338956604885, 0.049166475791083214, 0.19449581431623242, 0.10847369734460037, 0.034864898518241816, 0.046422479148443815, 0.1233414961468753, 0.03439091217007348, 0.03486746060661029, 0.040390810711374084, 0.06694993115668554, 0.06397575649502212, 0.04337103190158711, 0.07173078805226456, 0.0660321911030969, 0.01845113559442756, 0.06667322561288996, 0.05644536884592779, 0.06844106658713944, 0.03458409363305668, 0.038174091854967354, 0.042628026274728635, 0.06343218382676594, 0.027586005463397237, 0.027783286267770005, 0.0247318390209133, 0.19480070283208123, 0.19497236275276925, 0.02725549606386364, 0.047905928313792284, 0.19525419247330175, 0.049402187920983144, 0.08927084502286152, 0.10487652527525797, 0.1756516543660804, 0.07141557432029076, 0.04280283756410986, 0.10878686140587938, 0.6681229576953093, 0.1509659329357997, 0.09319365852383742, 0.11439755310312456, 0.9215869524112582, 0.15486799352099093, 0.4787562905674667, 0.042318013582142856, 1.2101849161659064, 0.1591580567687044, 0.11380658180005154, 0.14567265836652518, 0.8592675348046894, 0.040894004866943064, 0.021051142870758526, 0.039635507060346915, 1.3138635370244829, 0.17890806868241532, 0.10516347917252744, 0.15557769199905921, 0.469387911964594, 0.10229394019983265, 0.14151028960309664, 0.24587603694121493, 0.3538244036867427, 0.15439913134955954, 0.08353689125420886, 0.145805886961686, 0.16145768480471506, 0.02504185171349908, 0.05760087070011114, 0.10833790666107107, 0.1304820364298221, 0.1101329057720264, 0.0354114944507728, 0.06023725963127449, 0.1565256646953959, 0.04950210936735377, 0.0669533643550993, 0.10126913047332534, 0.19849267217105732, 0.08677539657284812, 0.045576989986846235, 0.20213099137959747, 0.2768399253304966, 0.04878933638324333, 0.06273493709816846, 0.10266836379400195, 0.7985954119146332, 0.06441090158352433, 0.07559339247658123, 0.046059841160769506, 1.9955335113472332, 0.07860230905652121, 0.0926548513399466, 0.06999932873284746, 3.581972608200835, 0.3461541516336132, 0.03762119318504991, 0.019925361241649512]\n",
      "[2.535, 2.5700000000000003, 2.605, 2.585, 2.545, 2.535, 2.5149999999999997, 2.5, 2.415, 2.4299999999999997, 2.44, 2.425, 2.415, 2.4, 2.385, 2.385, 2.365, 2.3449999999999998, 2.3449999999999998, 2.34, 2.2750000000000004, 2.255, 2.26, 2.25, 2.26, 2.3049999999999997, 2.3099999999999996, 2.3049999999999997, 2.275, 2.2699999999999996, 2.295, 2.32, 2.3049999999999997, 2.325, 2.335, 2.33, 2.335, 2.315, 2.32, 2.34, 2.32, 2.32, 2.34, 2.315, 2.3049999999999997, 2.295, 2.2800000000000002, 2.285, 2.215, 2.185, 2.16, 2.1550000000000002, 2.16, 2.145, 2.1500000000000004, 2.125, 2.0149999999999997, 2.0549999999999997, 2.035, 2.045, 2.045, 2.015, 2.0199999999999996, 2.025, 2.025, 2.035, 2.035, 2.035, 2.01, 2.0300000000000002, 2.05, 2.05, 2.0599999999999996, 2.07, 2.075, 2.0700000000000003, 2.05, 2.04, 2.0300000000000002, 2.035, 2.045, 2.0599999999999996, 2.0549999999999997, 2.05, 2.035, 2.025, 2.0300000000000002, 2.025, 2.0300000000000002, 2.06, 2.0599999999999996, 2.0599999999999996, 2.0549999999999997, 2.0549999999999997, 2.0549999999999997, 2.05, 2.07, 2.0599999999999996, 2.0549999999999997, 2.0549999999999997, 2.05, 2.05, 2.05, 2.045, 2.04, 2.035, 2.0300000000000002, 2.025, 2.005, 2.0199999999999996, 2.0199999999999996, 2.0199999999999996, 1.995, 1.99, 1.98, 1.96, 1.935, 1.9249999999999998, 1.9249999999999998, 1.92, 1.98, 1.9649999999999999, 1.9649999999999999, 1.96, 1.96, 1.96, 1.96, 1.96, 1.98, 1.9849999999999999, 1.975, 1.975, 1.975, 1.96, 1.955, 2.0149999999999997, 2.005, 1.9949999999999999, 2.005, 2.005, 1.995, 2.01, 2.025, 2.005, 1.9949999999999999, 2.0, 2.005, 2.005, 1.9849999999999999, 1.9849999999999999, 1.9849999999999999, 1.9849999999999999, 1.98, 1.97, 1.98, 1.9949999999999999, 2.045, 2.035, 2.045, 2.05, 2.06, 2.0549999999999997, 2.0599999999999996, 2.065, 2.0949999999999998, 2.115, 2.16, 2.1550000000000002, 2.125, 2.0999999999999996, 2.1100000000000003, 2.12, 2.13, 2.12, 2.125, 2.13, 2.16, 2.17, 2.1950000000000003, 2.22, 2.24, 2.225, 2.22, 2.21, 2.27, 2.25, 2.2350000000000003, 2.225, 2.165, 2.1900000000000004, 2.2, 2.225, 2.23, 2.215, 2.2, 2.185, 2.17, 2.17, 2.17, 2.17, 2.1900000000000004, 2.185, 2.16, 2.1550000000000002, 2.145, 2.12, 2.115, 2.125, 2.09, 2.0999999999999996, 2.105, 2.115, 2.1550000000000002, 2.14, 2.1399999999999997, 2.145, 2.14, 2.12, 2.1100000000000003, 2.0949999999999998, 2.05, 2.025, 2.0, 2.005, 2.04, 2.0199999999999996, 2.035, 2.04, 2.035, 2.035, 2.0199999999999996, 2.01, 2.0149999999999997, 2.01, 2.0, 2.0199999999999996, 2.045, 2.0599999999999996, 2.07, 2.08, 2.075, 2.0700000000000003, 2.0700000000000003, 2.065, 2.05, 2.04, 2.025, 2.025, 2.03, 2.0149999999999997, 2.025, 2.0300000000000002, 2.01, 2.0199999999999996, 2.0199999999999996, 2.0199999999999996, 1.9649999999999999, 1.95, 1.955, 1.955, 1.94, 1.95, 1.96, 1.95, 1.94, 1.93, 1.93, 1.93, 1.92, 1.92, 1.93, 1.9249999999999998, 1.9249999999999998, 1.93, 1.93, 1.9249999999999998, 1.94, 1.94, 1.935, 1.93, 1.8900000000000001, 1.87, 1.87, 1.87, 1.875, 1.8650000000000002, 1.85, 1.84, 1.8050000000000002, 1.78, 1.7850000000000001, 1.78, 1.775, 1.745, 1.75, 1.75, 1.745, 1.7650000000000001, 1.795, 1.795, 1.79, 1.8050000000000002, 1.79, 1.78, 1.775, 1.755, 1.74, 1.73, 1.745, 1.755, 1.76, 1.76, 1.75, 1.745, 1.745, 1.75, 1.75, 1.74, 1.74, 1.74, 1.72, 1.73, 1.73, 1.725, 1.725, 1.725, 1.73, 1.725, 1.71, 1.69, 1.71, 1.73, 1.83, 1.93, 1.93, 1.93, 2.045, 2.03, 2.045, 2.08, 1.9749999999999999, 1.95, 1.96, 1.96, 1.9449999999999998, 1.94, 1.935, 1.915, 1.915, 1.885, 1.9049999999999998, 1.915, 1.9049999999999998, 1.8849999999999998, 1.875, 1.87, 1.85, 1.8450000000000002, 1.87, 1.9, 1.865, 1.86, 1.855, 1.85, 1.8450000000000002, 1.85, 1.855, 1.855, 1.865, 1.87, 1.88, 1.88, 1.8900000000000001, 1.88, 1.88, 1.87, 1.835, 1.835, 1.85, 1.84, 1.8050000000000002, 1.81, 1.81, 1.81, 1.815, 1.82, 1.815, 1.815, 1.82, 1.83, 1.84, 1.8450000000000002, 1.8599999999999999, 1.86, 1.87, 1.86, 1.835, 1.83, 1.8450000000000002, 1.84, 1.855, 1.8450000000000002, 1.8450000000000002, 1.835, 1.865, 1.865, 1.875, 1.8650000000000002, 1.84, 1.83, 1.835, 1.835, 1.83, 1.85, 1.85, 1.85, 1.855, 1.8650000000000002, 1.87, 1.87, 1.865, 1.85, 1.85, 1.8450000000000002, 1.85, 1.85, 1.85, 1.85, 1.87, 1.92, 1.9, 1.895, 1.895, 1.9, 1.915, 1.92, 1.94, 1.9449999999999998, 1.9449999999999998, 1.94, 2.025, 2.04, 2.025, 2.025, 2.115, 2.1550000000000002, 2.2, 2.24, 2.185, 2.0999999999999996, 2.1100000000000003, 2.105, 2.17, 2.29, 2.29, 2.29, 2.245, 2.215, 2.1799999999999997, 2.19, 2.125, 2.12, 2.1, 2.08, 2.0599999999999996, 2.01, 2.005, 2.0, 1.9899999999999998, 2.005, 2.0, 1.9949999999999999, 1.99, 1.9949999999999999, 2.0, 1.995, 1.98, 1.98, 1.9849999999999999, 1.99, 1.9899999999999998, 2.025, 2.0300000000000002, 2.05, 2.065, 2.045, 2.04, 2.0549999999999997, 2.15, 2.26, 2.26, 2.26, 2.3200000000000003, 2.49, 2.49, 2.49, 2.6550000000000002, 2.7350000000000003, 2.74, 2.74]\n"
     ]
    },
    {
     "data": {
      "image/png": "[encoded data removed]",
      "text/plain": [
       "<Figure size 432x288 with 1 Axes>"
      ]
     },
     "metadata": {},
     "output_type": "display_data"
    },
    {
     "name": "stdout",
     "output_type": "stream",
     "text": [
      "\n",
      "\n",
      "Go to http://127.0.0.1:8001 to view the report\n",
      "You Get:  b'GET / HTTP/1.1\\r\\nHost: 127.0.0.1:8001\\r\\nConnection: keep-alive\\r\\nUpgrade-Insecure-Requests: 1\\r\\nAccept: text/html,application/xhtml+xml,application/xml;q=0.9,*/*;q=0.8\\r\\nUser-Agent: Mozilla/5.0 (Macintosh; Intel Mac OS X 10_15_7) AppleWebKit/605.1.15 (KHTML, like Gecko) Version/15.0 Safari/605.1.15\\r\\nReferer: http://localhost:8890/\\r\\nAccept-Language: zh-cn\\r\\nAccept-Encoding: gzip, deflate\\r\\n\\r\\n'\n"
     ]
    }
   ],
   "source": [
    "def handle():\n",
    "    paths_dict = Setting().return_all_static\n",
    "    boxplot(paths_dict)\n",
    "    # Self-selected stocks, manually entered stock codes\n",
    "    ALL_list = return_DF_list(code='sz002217')\n",
    "    # SSE index\n",
    "    ALL_list_sh = return_DF_list(code='sh000001')\n",
    "    # SSE compared to a certain value against a self selected stock.\n",
    "    # Types of optional comparisons\n",
    "    sh_list, stock_list, times_d, types = draw_sh_this(input_list_stock=ALL_list, sh_stock_list=ALL_list_sh, type='close')\n",
    "    # k-line chart for this period (WEB display)\n",
    "    k = []\n",
    "    # all_times = [i for i in ALL_list[0]]\n",
    "    for i in range(0, len(ALL_list[0])):\n",
    "        k.append(\n",
    "            [\n",
    "            ALL_list[0][i],\n",
    "            float(ALL_list[1][i]),\n",
    "            float(ALL_list[2][i]),\n",
    "            float(ALL_list[3][i]),\n",
    "            float(ALL_list[4][i]),\n",
    "            float(ALL_list[5][i])\n",
    "            ]\n",
    "        )\n",
    "    r_d = HTML.replace('@data', str(k)).replace('@title_sh', types).replace('@title_stock', types). \\\n",
    "        replace('@public_times', times_d).replace('@sh_list', sh_list).replace('@stock_list', stock_list)\n",
    "    q3(code='sz000620')\n",
    "\n",
    "\n",
    "#### As can be seen from the waveform on the graph, volume and price are positively correlated, with the stock price on a downward trend when volume is at a trough, and a higher slope when volume surges. This characteristic is more pronounced at the turnaround.\n",
    "\n",
    "    sock = socket.socket()\n",
    "    port = 8000\n",
    "    while True:\n",
    "        try:\n",
    "            sock.bind((\"127.0.0.1\", port))\n",
    "            sock.listen(5)\n",
    "            print('\\n')\n",
    "            print('Go to http://{0}:{1} to view the report'.format('127.0.0.1', port))\n",
    "            break\n",
    "        except:\n",
    "            port += 1\n",
    "            continue\n",
    "    # The main loop processes the user request data and responds accordingly\n",
    "    while True: # Used to keep listening\n",
    "        # Receive data\n",
    "        conn, addr = sock.accept() # hangs until user request is received\n",
    "        data = conn.recv(1000000000) # Receive user data size\n",
    "        print(\"You Get: \", data) # Print the request\n",
    "\n",
    "        try:\n",
    "            # Send data\n",
    "            conn.send(b'HTTP/1.1 200 OK\\r\\n\\r\\n')\n",
    "            conn.send(b'%s' % bytes(r_d, encoding=\"utf8\"))\n",
    "        except:\n",
    "            continue\n",
    "\n",
    "        conn.close()\n",
    "\n",
    "handle()\n",
    "\n",
    "# Crawl the data column\n",
    "# Get the history of the stock with the code sz300546, at 60 minute intervals, for a quantity of 500\n",
    "# obj = Stock(code='sz300398', datalen=500, scale=60)\n",
    "# flag = obj.storage_csv\n",
    "# print(flag)"
   ]
  },
  {
   "cell_type": "markdown",
   "id": "f9be1867",
   "metadata": {},
   "source": [
    "#### As shown above, code needs to be written to clean the stock data to be analysed. The user will input two stock codes (which must be stored in csv beforehand), get the corresponding list of data via the 'return_DF_list' function, then iterate over it, taking out each piece of data and putting it into the total list; then open the file where the front-end is located via 'open ' to open the file where the front-end is located and replace the data obtained with it, and finally send the replaced data to the socket to the user."
   ]
  },
  {
   "cell_type": "markdown",
   "id": "f77be207",
   "metadata": {},
   "source": [
    "#### Using plt for plotting, the chart for stock code 'sz00060' as an example is shown below."
   ]
  },
  {
   "attachments": {
    "q3.png": {
     "image/png": "[encoded data removed]"
    }
   },
   "cell_type": "markdown",
   "id": "d52194f4",
   "metadata": {},
   "source": [
    "![q3.png](attachment:q3.png)"
   ]
  },
  {
   "cell_type": "markdown",
   "id": "5cc087ae",
   "metadata": {},
   "source": [
    " #### A simple HTTP server was implemented using Python's built-in 'socket' library to display HTML pages.\n",
    " #### The program first creates a new socket using 'socket.socket()', then binds the local port '8000' and listens on this port. It then uses 'While True' to keep preparing to receive requests from users. If a user request is received, the HTML file of the display interface is returned to the user.\n",
    " ####  r_d is the content of the HTML file of the display interface and needs to be converted to Byte type before it can be sent to the user."
   ]
  },
  {
   "cell_type": "markdown",
   "id": "8f4fb5cd",
   "metadata": {},
   "source": [
    "#### Click on the generated URL to see a visual report that facilitates the observation of the interaction data."
   ]
  }
 ],
 "metadata": {
  "kernelspec": {
   "display_name": "Python 3.7.11 64-bit ('learning': conda)",
   "language": "python",
   "name": "python3711jvsc74a57bd02abc9bfbef87abb2053424dc7aad81c5f6d4a3df8e09b0392bb8935a1febe5ab"
  },
  "language_info": {
   "codemirror_mode": {
    "name": "ipython",
    "version": 3
   },
   "file_extension": ".py",
   "mimetype": "text/x-python",
   "name": "python",
   "nbconvert_exporter": "python",
   "pygments_lexer": "ipython3",
   "version": "3.7.11"
  }
 },
 "nbformat": 4,
 "nbformat_minor": 5
}
