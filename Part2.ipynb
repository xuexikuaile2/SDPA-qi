{
 "cells": [
  {
   "cell_type": "code",
   "execution_count": 1,
   "id": "436031e1",
   "metadata": {
    "scrolled": false
   },
   "outputs": [
    {
     "name": "stdout",
     "output_type": "stream",
     "text": [
      "Input Arrays: [7, 23, 42, 12, 23, 11, 90, 66]\n",
      "\n",
      "Output Arrays: [23, 23, 11, 7, 12, 42, 66, 90]\n"
     ]
    }
   ],
   "source": [
    "import time\n",
    "\n",
    "# Determine if it is an odd or even number\n",
    "\n",
    "\n",
    "def judgment(num: int) -> bool:\n",
    "    \"\"\"\n",
    "    :param num: receives an integer\n",
    "    :return: Returns True for an even number, False for an odd number\n",
    "    \"\"\"\n",
    "    # If num is divisible by 2, then it is an even number\n",
    "    if num % 2 == 0:\n",
    "        return True\n",
    "    else:\n",
    "        return False\n",
    "\n",
    "\n",
    "input_dict = [\n",
    "    7, 23, 42, 12, 23, 11, 90, 66\n",
    "]\n",
    "\n",
    "if __name__ == '__main__':\n",
    "    print('Input Arrays: {0}\\n'.format(input_dict))\n",
    "    time.sleep(1)\n",
    "    # Arrays that store odd numbers\n",
    "    Odd_Number_list = [value for value in input_dict if not judgment(num=value)]\n",
    "    # Arrays that store even numbers\n",
    "    even_number = [value for value in input_dict if judgment(num=value)]\n",
    "    # Let the odd numbers be arranged in descending order\n",
    "    Odd_Number_list_down = sorted(Odd_Number_list)\n",
    "    Odd_Number_list_down.reverse()\n",
    "    # Even arrays in ascending order\n",
    "    even_number_up = sorted(even_number)\n",
    "    # Final output list\n",
    "    # Add the even list to the odd list one by one, the final odd list is the final output list\n",
    "    for even_each_value in even_number_up:\n",
    "        Odd_Number_list_down.append(even_each_value)\n",
    "    print('Output Arrays: {0}'.format(Odd_Number_list_down))\n"
   ]
  },
  {
   "cell_type": "markdown",
   "id": "d49bc670",
   "metadata": {},
   "source": [
    "Complexity of the algorithm：O(1+3n)\n",
    "\n",
    "Since there are 3 first-order for loops, the complexity of each loop is O(n), and the complexity of the judgement function is 1."
   ]
  },
  {
   "cell_type": "code",
   "execution_count": null,
   "id": "56b0b2a5",
   "metadata": {},
   "outputs": [],
   "source": []
  }
 ],
 "metadata": {
  "kernelspec": {
   "display_name": "Python 3.7.11 64-bit ('learning': conda)",
   "language": "python",
   "name": "python3711jvsc74a57bd02abc9bfbef87abb2053424dc7aad81c5f6d4a3df8e09b0392bb8935a1febe5ab"
  },
  "language_info": {
   "codemirror_mode": {
    "name": "ipython",
    "version": 3
   },
   "file_extension": ".py",
   "mimetype": "text/x-python",
   "name": "python",
   "nbconvert_exporter": "python",
   "pygments_lexer": "ipython3",
   "version": "3.7.11"
  }
 },
 "nbformat": 4,
 "nbformat_minor": 5
}
